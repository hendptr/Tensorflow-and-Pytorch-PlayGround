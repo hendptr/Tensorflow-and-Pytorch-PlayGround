{
 "cells": [
  {
   "cell_type": "code",
   "execution_count": 1,
   "metadata": {},
   "outputs": [],
   "source": [
    "import tensorflow as tf\n",
    "import numpy as np\n",
    "from tensorflow.keras import Model, Sequential\n",
    "from tensorflow.keras.layers import Dense"
   ]
  },
  {
   "cell_type": "code",
   "execution_count": 2,
   "metadata": {},
   "outputs": [],
   "source": [
    "#PARAM\n",
    "lr = 0.01\n",
    "training_steps = 200\n",
    "batch_size = 2"
   ]
  },
  {
   "cell_type": "code",
   "execution_count": 3,
   "metadata": {},
   "outputs": [],
   "source": [
    "X = tf.constant([[4.0], [8.0], [16.0]])\n",
    "y = tf.constant([[8.0], [16.0], [32.0]])"
   ]
  },
  {
   "cell_type": "code",
   "execution_count": 4,
   "metadata": {},
   "outputs": [],
   "source": [
    "class Linear(Model):\n",
    "    def __init__(self):\n",
    "        super(Linear, self).__init__()\n",
    "        self.fc1 = Dense(32)\n",
    "        self.fc2 = Dense(8)\n",
    "        self.fc3 = Dense(1)\n",
    "    def __call__(self, X):\n",
    "        x = self.fc1(X)\n",
    "        x = self.fc2(x)\n",
    "        return self.fc3(x)\n",
    "\n",
    "model = Linear()"
   ]
  },
  {
   "cell_type": "code",
   "execution_count": 5,
   "metadata": {},
   "outputs": [],
   "source": [
    "loss_obj = tf.keras.losses.MeanSquaredError()\n",
    "optimizer = tf.keras.optimizers.Adam(lr=0.1)"
   ]
  },
  {
   "cell_type": "code",
   "execution_count": 6,
   "metadata": {},
   "outputs": [],
   "source": [
    "train_loss = tf.keras.metrics.MeanSquaredError(name='mean_squared_error')"
   ]
  },
  {
   "cell_type": "code",
   "execution_count": 7,
   "metadata": {},
   "outputs": [],
   "source": [
    "def train(X, y):\n",
    "    with tf.GradientTape() as t:\n",
    "        pred = model(X)\n",
    "        loss = loss_obj(y, pred)\n",
    "    gradient = t.gradient(loss, model.trainable_variables)\n",
    "    optimizer.apply_gradients(zip(gradient, model.trainable_variables))\n",
    "    train_loss(y, pred)"
   ]
  },
  {
   "cell_type": "code",
   "execution_count": 8,
   "metadata": {},
   "outputs": [
    {
     "name": "stdout",
     "output_type": "stream",
     "text": [
      "Epoch 1 and Loss 613.552001953125\n",
      "Epoch 2 and Loss 13.66887378692627\n",
      "Epoch 3 and Loss 23.28386878967285\n",
      "Epoch 4 and Loss 55.333248138427734\n",
      "Epoch 5 and Loss 20.113115310668945\n",
      "Epoch 6 and Loss 18.7329044342041\n",
      "Epoch 7 and Loss 22.368757247924805\n",
      "Epoch 8 and Loss 3.8795652389526367\n",
      "Epoch 9 and Loss 27.29331398010254\n",
      "Epoch 10 and Loss 5.3496880531311035\n",
      "Epoch 11 and Loss 9.648543357849121\n",
      "Epoch 12 and Loss 16.2889461517334\n",
      "Epoch 13 and Loss 0.03192209079861641\n",
      "Epoch 14 and Loss 12.946945190429688\n",
      "Epoch 15 and Loss 8.265018463134766\n",
      "Epoch 16 and Loss 0.6851581931114197\n",
      "Epoch 17 and Loss 11.301739692687988\n",
      "Epoch 18 and Loss 2.6853504180908203\n",
      "Epoch 19 and Loss 2.865804672241211\n",
      "Epoch 20 and Loss 8.076870918273926\n",
      "Epoch 21 and Loss 1.0836329460144043\n",
      "Epoch 22 and Loss 3.2124369144439697\n",
      "Epoch 23 and Loss 5.428678035736084\n",
      "Epoch 24 and Loss 0.11241894215345383\n",
      "Epoch 25 and Loss 3.6377804279327393\n",
      "Epoch 26 and Loss 3.3582613468170166\n",
      "Epoch 27 and Loss 0.11968555301427841\n",
      "Epoch 28 and Loss 3.2633049488067627\n",
      "Epoch 29 and Loss 1.7164541482925415\n",
      "Epoch 30 and Loss 0.46124139428138733\n",
      "Epoch 31 and Loss 2.6944847106933594\n",
      "Epoch 32 and Loss 0.8837134838104248\n",
      "Epoch 33 and Loss 0.6477686762809753\n",
      "Epoch 34 and Loss 2.039351463317871\n",
      "Epoch 35 and Loss 0.2543479800224304\n",
      "Epoch 36 and Loss 0.955556333065033\n",
      "Epoch 37 and Loss 1.327734351158142\n",
      "Epoch 38 and Loss 0.08607134222984314\n",
      "Epoch 39 and Loss 0.9994199872016907\n",
      "Epoch 40 and Loss 0.6877458095550537\n",
      "Epoch 41 and Loss 0.13351096212863922\n",
      "Epoch 42 and Loss 0.8951688408851624\n",
      "Epoch 43 and Loss 0.2581040561199188\n",
      "Epoch 44 and Loss 0.2687911093235016\n",
      "Epoch 45 and Loss 0.6360477805137634\n",
      "Epoch 46 and Loss 0.028232039883732796\n",
      "Epoch 47 and Loss 0.4101690948009491\n",
      "Epoch 48 and Loss 0.3096591532230377\n",
      "Epoch 49 and Loss 0.03932397440075874\n",
      "Epoch 50 and Loss 0.39760497212409973\n",
      "Epoch 51 and Loss 0.0598873533308506\n",
      "Epoch 52 and Loss 0.16683393716812134\n",
      "Epoch 53 and Loss 0.23877458274364471\n",
      "Epoch 54 and Loss 0.00226700771600008\n",
      "Epoch 55 and Loss 0.22856277227401733\n",
      "Epoch 56 and Loss 0.0597524493932724\n",
      "Epoch 57 and Loss 0.08239585906267166\n",
      "Epoch 58 and Loss 0.15610291063785553\n",
      "Epoch 59 and Loss 0.002687160624191165\n",
      "Epoch 60 and Loss 0.14079797267913818\n",
      "Epoch 61 and Loss 0.03760223463177681\n",
      "Epoch 62 and Loss 0.05782509967684746\n",
      "Epoch 63 and Loss 0.09199247509241104\n",
      "Epoch 64 and Loss 0.0059073325246572495\n",
      "Epoch 65 and Loss 0.0912766382098198\n",
      "Epoch 66 and Loss 0.014633453451097012\n",
      "Epoch 67 and Loss 0.04858857020735741\n",
      "Epoch 68 and Loss 0.04466170072555542\n",
      "Epoch 69 and Loss 0.01058764848858118\n",
      "Epoch 70 and Loss 0.0548018179833889\n",
      "Epoch 71 and Loss 0.0020789119880646467\n",
      "Epoch 72 and Loss 0.039721664041280746\n",
      "Epoch 73 and Loss 0.01358847040683031\n",
      "Epoch 74 and Loss 0.01675575040280819\n",
      "Epoch 75 and Loss 0.02516433782875538\n",
      "Epoch 76 and Loss 0.002566116163507104\n",
      "Epoch 77 and Loss 0.02655703015625477\n",
      "Epoch 78 and Loss 0.0006156170857138932\n",
      "Epoch 79 and Loss 0.01901899091899395\n",
      "Epoch 80 and Loss 0.0056912521831691265\n",
      "Epoch 81 and Loss 0.009220651350915432\n",
      "Epoch 82 and Loss 0.011026757769286633\n",
      "Epoch 83 and Loss 0.0024192798882722855\n",
      "Epoch 84 and Loss 0.012718628160655499\n",
      "Epoch 85 and Loss 0.0002497888635843992\n",
      "Epoch 86 and Loss 0.010830651968717575\n",
      "Epoch 87 and Loss 0.00120146747212857\n",
      "Epoch 88 and Loss 0.007272029295563698\n",
      "Epoch 89 and Loss 0.0031250615138560534\n",
      "Epoch 90 and Loss 0.00383935053832829\n",
      "Epoch 91 and Loss 0.00459273112937808\n",
      "Epoch 92 and Loss 0.001477162935771048\n",
      "Epoch 93 and Loss 0.004998127464205027\n",
      "Epoch 94 and Loss 0.0003715679922606796\n",
      "Epoch 95 and Loss 0.004500447306782007\n",
      "Epoch 96 and Loss 0.00013990425213705748\n",
      "Epoch 97 and Loss 0.0035352809354662895\n",
      "Epoch 98 and Loss 0.00035934822517447174\n",
      "Epoch 99 and Loss 0.002469871426001191\n",
      "Epoch 100 and Loss 0.0007043746300041676\n"
     ]
    }
   ],
   "source": [
    "for i in range(100):\n",
    "    train(X, y)\n",
    "    \n",
    "    print('Epoch {} and Loss {}'.format(i+1, train_loss.result()))\n",
    "\n",
    "    train_loss.reset_states()"
   ]
  },
  {
   "cell_type": "code",
   "execution_count": 9,
   "metadata": {},
   "outputs": [
    {
     "data": {
      "text/plain": [
       "array([[-380.54224]], dtype=float32)"
      ]
     },
     "execution_count": 9,
     "metadata": {},
     "output_type": "execute_result"
    }
   ],
   "source": [
    "model.predict([-190])"
   ]
  },
  {
   "cell_type": "code",
   "execution_count": null,
   "metadata": {},
   "outputs": [],
   "source": []
  },
  {
   "cell_type": "code",
   "execution_count": null,
   "metadata": {},
   "outputs": [],
   "source": []
  }
 ],
 "metadata": {
  "hide_input": false,
  "kernelspec": {
   "display_name": "Python 3",
   "language": "python",
   "name": "python3"
  },
  "language_info": {
   "codemirror_mode": {
    "name": "ipython",
    "version": 3
   },
   "file_extension": ".py",
   "mimetype": "text/x-python",
   "name": "python",
   "nbconvert_exporter": "python",
   "pygments_lexer": "ipython3",
   "version": "3.7.7"
  }
 },
 "nbformat": 4,
 "nbformat_minor": 4
}
