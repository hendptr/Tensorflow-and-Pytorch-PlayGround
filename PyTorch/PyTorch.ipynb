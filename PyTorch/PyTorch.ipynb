{
 "cells": [
  {
   "cell_type": "code",
   "execution_count": 1,
   "metadata": {},
   "outputs": [],
   "source": [
    "import torch"
   ]
  },
  {
   "cell_type": "code",
   "execution_count": 4,
   "metadata": {},
   "outputs": [
    {
     "name": "stdout",
     "output_type": "stream",
     "text": [
      "tensor([[9.9184e-39, 8.7245e-39, 9.2755e-39],\n",
      "        [8.9082e-39, 9.9184e-39, 8.4490e-39],\n",
      "        [9.6429e-39, 1.0653e-38, 1.0469e-38],\n",
      "        [4.2246e-39, 1.0378e-38, 9.6429e-39],\n",
      "        [9.2755e-39, 9.7346e-39, 1.0745e-38]])\n"
     ]
    }
   ],
   "source": [
    "#Uninitialized  Matrix\n",
    "x = torch.empty(5, 3)\n",
    "print(x)"
   ]
  },
  {
   "cell_type": "code",
   "execution_count": 7,
   "metadata": {},
   "outputs": [
    {
     "name": "stdout",
     "output_type": "stream",
     "text": [
      "tensor([[0.8719, 0.7003, 0.1984],\n",
      "        [0.5123, 0.5026, 0.4485]])\n"
     ]
    }
   ],
   "source": [
    "#Random Matrix\n",
    "x = torch.rand(2, 3)\n",
    "print(x)"
   ]
  },
  {
   "cell_type": "code",
   "execution_count": 8,
   "metadata": {},
   "outputs": [
    {
     "name": "stdout",
     "output_type": "stream",
     "text": [
      "tensor([[0., 0., 0., 0.],\n",
      "        [0., 0., 0., 0.],\n",
      "        [0., 0., 0., 0.]])\n"
     ]
    }
   ],
   "source": [
    "#Zero Matrix\n",
    "x = torch.zeros(3, 4)\n",
    "print(x)"
   ]
  },
  {
   "cell_type": "code",
   "execution_count": 14,
   "metadata": {},
   "outputs": [
    {
     "name": "stdout",
     "output_type": "stream",
     "text": [
      "tensor([[ 5., 10.],\n",
      "        [ 4.,  1.],\n",
      "        [ 3.,  3.],\n",
      "        [ 2.,  5.]])\n",
      "torch.Size([4, 2])\n"
     ]
    }
   ],
   "source": [
    "#Tensor\n",
    "x = torch.tensor([[5.0, 10.0], [4.0, 1.0], [3.0, 3.0], [2.0, 5.0]])\n",
    "print(x)\n",
    "print(x.size())"
   ]
  },
  {
   "cell_type": "code",
   "execution_count": 21,
   "metadata": {},
   "outputs": [
    {
     "name": "stdout",
     "output_type": "stream",
     "text": [
      "tensor([[0.1244, 0.6400, 0.7903, 0.3039],\n",
      "        [0.2860, 0.9197, 0.0906, 0.6367],\n",
      "        [0.6160, 0.8659, 0.6077, 0.3376],\n",
      "        [0.1889, 0.2444, 0.0334, 0.9718]])\n",
      "tensor([[0.1802, 0.9125, 0.9455, 0.2489],\n",
      "        [0.6934, 0.5299, 0.3536, 0.1101],\n",
      "        [0.6481, 0.5268, 0.8925, 0.9971],\n",
      "        [0.5467, 0.9964, 0.4896, 0.8401]])\n",
      "tensor([[0.3046, 1.5525, 1.7358, 0.5528],\n",
      "        [0.9794, 1.4497, 0.4442, 0.7468],\n",
      "        [1.2640, 1.3927, 1.5001, 1.3347],\n",
      "        [0.7356, 1.2408, 0.5230, 1.8118]])\n",
      "tensor([[0.6160, 0.8659, 0.6077, 0.3376],\n",
      "        [0.1889, 0.2444, 0.0334, 0.9718]])\n"
     ]
    }
   ],
   "source": [
    "#Add Tensor\n",
    "x = torch.rand(4,4)\n",
    "y = torch.rand(4, 4)\n",
    "print(x)\n",
    "print(y)\n",
    "print(torch.add(x, y))\n",
    "print(x[2:,])"
   ]
  },
  {
   "cell_type": "code",
   "execution_count": 29,
   "metadata": {},
   "outputs": [
    {
     "name": "stdout",
     "output_type": "stream",
     "text": [
      "tensor([[0.2639, 0.7376, 0.5197],\n",
      "        [0.4868, 0.8638, 0.1291],\n",
      "        [0.0627, 0.8420, 0.5188]])\n",
      "tensor([0.2639, 0.7376, 0.5197, 0.4868, 0.8638, 0.1291, 0.0627, 0.8420, 0.5188])\n",
      "tensor([[0.2639, 0.7376, 0.5197, 0.4868, 0.8638, 0.1291, 0.0627, 0.8420, 0.5188]])\n",
      "torch.Size([3, 3]) torch.Size([9]) torch.Size([1, 9])\n"
     ]
    }
   ],
   "source": [
    "#Resize\n",
    "x = torch.rand(3,3)\n",
    "y = x.view(9)\n",
    "z = x.view(-1, 9)\n",
    "print(x)\n",
    "print(y)\n",
    "print(z)\n",
    "print(x.size(), y.size(), z.size())"
   ]
  },
  {
   "cell_type": "code",
   "execution_count": 35,
   "metadata": {},
   "outputs": [
    {
     "name": "stdout",
     "output_type": "stream",
     "text": [
      "tensor([[3.7962, 3.5785],\n",
      "        [3.6418, 3.1764]], grad_fn=<AddBackward0>)\n",
      "<AddBackward0 object at 0x000001CE8EEEE2C8>\n",
      "tensor([[14.4115, 12.8060],\n",
      "        [13.2629, 10.0896]], grad_fn=<PowBackward0>)\n",
      "tensor(12.6425, grad_fn=<MeanBackward0>)\n"
     ]
    }
   ],
   "source": [
    "#Autograd \n",
    "x = torch.rand(2, 2, requires_grad=True)\n",
    "y = x + 3\n",
    "print(y)\n",
    "print(y.grad_fn)\n",
    "z = y**2\n",
    "out = z.mean()\n",
    "print(z)\n",
    "print(out)"
   ]
  },
  {
   "cell_type": "code",
   "execution_count": 36,
   "metadata": {},
   "outputs": [
    {
     "name": "stdout",
     "output_type": "stream",
     "text": [
      "tensor([[1.8981, 1.7893],\n",
      "        [1.8209, 1.5882]])\n"
     ]
    }
   ],
   "source": [
    "out.backward()\n",
    "print(x.grad)"
   ]
  },
  {
   "cell_type": "code",
   "execution_count": 43,
   "metadata": {},
   "outputs": [],
   "source": [
    "from torch.autograd import Variable\n"
   ]
  },
  {
   "cell_type": "code",
   "execution_count": 69,
   "metadata": {},
   "outputs": [
    {
     "name": "stdout",
     "output_type": "stream",
     "text": [
      "tensor([2.], requires_grad=True)\n",
      "tensor([8.], grad_fn=<PowBackward0>)\n",
      "tensor([24.])\n"
     ]
    }
   ],
   "source": [
    "ze = torch.tensor([2.0], requires_grad=True)\n",
    "out = ze**3\n",
    "print(ze)\n",
    "print(out)\n",
    "out.backward(ze)\n",
    "print(ze.grad)"
   ]
  },
  {
   "cell_type": "code",
   "execution_count": null,
   "metadata": {},
   "outputs": [],
   "source": []
  },
  {
   "cell_type": "code",
   "execution_count": null,
   "metadata": {},
   "outputs": [],
   "source": []
  }
 ],
 "metadata": {
  "hide_input": false,
  "kernelspec": {
   "display_name": "Python 3",
   "language": "python",
   "name": "python3"
  },
  "language_info": {
   "codemirror_mode": {
    "name": "ipython",
    "version": 3
   },
   "file_extension": ".py",
   "mimetype": "text/x-python",
   "name": "python",
   "nbconvert_exporter": "python",
   "pygments_lexer": "ipython3",
   "version": "3.7.7"
  }
 },
 "nbformat": 4,
 "nbformat_minor": 4
}
